{
 "cells": [
  {
   "cell_type": "code",
   "execution_count": null,
   "metadata": {},
   "outputs": [],
   "source": [
    "import pandas as pd\n",
    "import numpy as np\n",
    "import sklearn\n",
    "from numpy.linalg import eig\n",
    "from sklearn.model_selection import train_test_split"
   ]
  },
  {
   "cell_type": "code",
   "execution_count": 1,
   "metadata": {},
   "outputs": [],
   "source": [
    "def pca(train_df):\n",
    "    \"\"\"\n",
    "    Gives the Principle Components.\n",
    "\n",
    "    :train_df: numpy 2D array, data to reduce the dimensionality.\n",
    "\n",
    "    :return: numpy 2D array, Soreted eigen vectors.\n",
    "    :return: numpy 2D array, varience captured by components.\n",
    "    \"\"\"\n",
    "\n",
    "    #computing the covarience matrix\n",
    "    covarience_mat = np.cov(train_df, rowvar=False)\n",
    "    print(covarience_mat.shape)\n",
    "    #computing eigen values and eigen vectors\n",
    "    eigen_val, eigen_vec = eig(covarience_mat)\n",
    "    index = np.argsort(eigen_val)[::-1]\n",
    "    #sorting the eigen values\n",
    "    sorted_eigen_val = eigen_val[index]\n",
    "    varience_captured = sorted_eigen_val/np.sum(sorted_eigen_val)\n",
    "    #sort the eigenvectors according to index\n",
    "    sorted_eigen_vec = eigen_vec[:,index]\n",
    "    #selecting the 70 components\n",
    "    \n",
    "    # principle_comp = sorted_eigen_vec[:,0:principle_components]\n",
    "    # principle_comp.shape \n",
    "\n",
    "    return  sorted_eigen_vec, varience_captured\n"
   ]
  },
  {
   "cell_type": "code",
   "execution_count": null,
   "metadata": {},
   "outputs": [],
   "source": [
    "def mda(X_train, comp):\n",
    "    # compute the class means\n",
    "    means = []\n",
    "    data = []\n",
    "    K = X_train['labels'].nunique()\n",
    "    for k in range(K):\n",
    "        train = (X_train[X_train['labels']==k].values)\n",
    "        train_data = train[:,0:-1]\n",
    "        data.append(train_data)\n",
    "\n",
    "        train_mean = np.mean(train_data,axis=0)\n",
    "        means.append(train_mean)\n",
    "    M=means\n",
    "\n",
    "    # compute the scatter matrices\n",
    "    Sw = np.zeros((X_train.shape[1]-1, X_train.shape[1]-1))\n",
    "    for k in range(K):\n",
    "        Sw += np.dot((data[k]-M[k]).T, (data[k]-M[k]))\n",
    "\n",
    "    # Calculate between-class scatter matrix\n",
    "    X = X_train.values\n",
    "    overall_mean = np.mean(X[:,0:-1], axis=0)\n",
    "    S_b = np.zeros((X_train.shape[1]-1, X_train.shape[1]-1))\n",
    "    for c in range(K):\n",
    "        n = data[c].shape[0]\n",
    "        diff = (M[c] - overall_mean).reshape(-1, 1)\n",
    "        S_b += n * np.dot(diff, diff.T)\n",
    "\n",
    "    # Calculate eigenvectors and eigenvalues of S_w^-1 S_b\n",
    "    S_w_inv = np.linalg.inv(Sw)\n",
    "    eigvals, eigvecs = np.linalg.eig(np.dot(S_w_inv, S_b))\n",
    "\n",
    "    index = np.argsort(eigvals)[::-1]\n",
    "    #sorting the eigen values\n",
    "    sorted_eigen_val = eigvals[index]\n",
    "    varience_captured = sorted_eigen_val/np.sum(sorted_eigen_val)\n",
    "    #sort the eigenvectors according to index\n",
    "    sorted_eigen_vec = eigvecs[:,index]\n",
    "\n",
    "    components = sorted_eigen_vec[:,:comp]\n",
    "    \n",
    "    return components"
   ]
  }
 ],
 "metadata": {
  "kernelspec": {
   "display_name": "Python 3.8.10 ('dstg': venv)",
   "language": "python",
   "name": "python3"
  },
  "language_info": {
   "codemirror_mode": {
    "name": "ipython",
    "version": 3
   },
   "file_extension": ".py",
   "mimetype": "text/x-python",
   "name": "python",
   "nbconvert_exporter": "python",
   "pygments_lexer": "ipython3",
   "version": "3.8.10"
  },
  "orig_nbformat": 4,
  "vscode": {
   "interpreter": {
    "hash": "8e5e40c540b22005a2cf5f6881bb08f49e5ac2b57a9154d5e282d3778dc13925"
   }
  }
 },
 "nbformat": 4,
 "nbformat_minor": 2
}
